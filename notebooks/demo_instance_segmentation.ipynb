{
 "cells": [
  {
   "cell_type": "code",
   "execution_count": null,
   "metadata": {},
   "outputs": [],
   "source": [
    "import torch\n",
    "import torchvision\n",
    "from torchvision import datasets, transforms, models\n",
    "from PIL import Image\n",
    "import matplotlib.pyplot as plt\n",
    "from helpers import get_masks,\\\n",
    "                    display_image,\\\n",
    "                    instance_segmentation_plot,\\\n",
    "                    get_best_device"
   ]
  },
  {
   "cell_type": "code",
   "execution_count": null,
   "metadata": {},
   "outputs": [],
   "source": [
    "# Use eval to enableg prediction mode for the model\n",
    "device = get_best_device()\n",
    "model = torchvision.models.detection.maskrcnn_resnet50_fpn(pretrained=True)\n",
    "model = model.to(device).eval()"
   ]
  },
  {
   "cell_type": "code",
   "execution_count": null,
   "metadata": {},
   "outputs": [],
   "source": [
    "filename = '../torch/VOCdevkit/VOC2012/JPEGImages/2007_001299.jpg'\n",
    "image = Image.open(filename)\n",
    "\n",
    "print(\"Image shape:\", (image.width, image.height))\n",
    "\n",
    "display_image(image)"
   ]
  },
  {
   "cell_type": "code",
   "execution_count": null,
   "metadata": {},
   "outputs": [],
   "source": [
    "transform_pipeline = transforms.Compose([      \n",
    "    transforms.ToTensor()\n",
    "])\n",
    "\n",
    "transformed_image = transform_pipeline(image)\n",
    "transformed_image = torch.unsqueeze(transformed_image, dim=0)\n",
    "transformed_image = transformed_image.to(device)\n",
    "print(\"Transformed image shape:\", transformed_image.shape)"
   ]
  },
  {
   "cell_type": "code",
   "execution_count": null,
   "metadata": {},
   "outputs": [],
   "source": [
    "out = model(transformed_image)"
   ]
  },
  {
   "cell_type": "code",
   "execution_count": null,
   "metadata": {},
   "outputs": [],
   "source": [
    "masks = get_masks(out)\n",
    "instance_segmentation_plot(image, masks)\n",
    "\n",
    "true_mask = Image.open('../torch/VOCdevkit/VOC2012/SegmentationObject/2007_001299.png')\n",
    "display_image(true_mask)"
   ]
  }
 ],
 "metadata": {
  "file_extension": ".py",
  "kernelspec": {
   "display_name": "Python 3",
   "language": "python",
   "name": "python3"
  },
  "language_info": {
   "codemirror_mode": {
    "name": "ipython",
    "version": 3
   },
   "file_extension": ".py",
   "mimetype": "text/x-python",
   "name": "python",
   "nbconvert_exporter": "python",
   "pygments_lexer": "ipython3",
   "version": "3.7.6-final"
  },
  "mimetype": "text/x-python",
  "name": "python",
  "npconvert_exporter": "python",
  "pygments_lexer": "ipython3",
  "version": 3
 },
 "nbformat": 4,
 "nbformat_minor": 4
}