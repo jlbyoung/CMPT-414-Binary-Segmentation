{
 "nbformat": 4,
 "nbformat_minor": 2,
 "metadata": {
  "language_info": {
   "name": "python",
   "codemirror_mode": {
    "name": "ipython",
    "version": 3
   },
   "version": "3.7.6-final"
  },
  "orig_nbformat": 2,
  "file_extension": ".py",
  "mimetype": "text/x-python",
  "name": "python",
  "npconvert_exporter": "python",
  "pygments_lexer": "ipython3",
  "version": 3,
  "kernelspec": {
   "name": "python3",
   "display_name": "Python 3"
  }
 },
 "cells": [
  {
   "cell_type": "code",
   "execution_count": null,
   "metadata": {},
   "outputs": [],
   "source": [
    "import pandas as pd\n",
    "from PIL import Image\n",
    "from helpers import display_image"
   ]
  },
  {
   "cell_type": "code",
   "execution_count": null,
   "metadata": {},
   "outputs": [],
   "source": [
    "SAMPLE_SIZE = 5\n",
    "IMAGES_DIR = '../torch/VOCdevkit/VOC2012'"
   ]
  },
  {
   "cell_type": "code",
   "execution_count": null,
   "metadata": {},
   "outputs": [],
   "source": [
    "def show_image_and_segmentation_pair(filename):\n",
    "    original = Image.open(f'{IMAGES_DIR}/JPEGImages/{filename}.jpg')\n",
    "    segmented = Image.open(f'{IMAGES_DIR}/SegmentationClass/{filename}.png')\n",
    "\n",
    "    # Concatenate Images \n",
    "    concatenated_image = Image.new('RGB', (original.width * 2, original.height))\n",
    "    concatenated_image.paste(original, (0, 0))\n",
    "    concatenated_image.paste(segmented, (original.width, 0))\n",
    "\n",
    "    display_image(concatenated_image, size=(12, 8))"
   ]
  },
  {
   "cell_type": "code",
   "execution_count": null,
   "metadata": {},
   "outputs": [],
   "source": [
    "def main():\n",
    "    # View sample of segmentation images\n",
    "\n",
    "    train_images = pd.read_table(f'{IMAGES_DIR}/ImageSets/Segmentation/train.txt', \n",
    "                                 header=None, squeeze=True)\n",
    "\n",
    "    # Get 5 random images and show their semantic segmatation\n",
    "    filenames = train_images.sample(5, random_state=2)\n",
    "    filenames.map(show_image_and_segmentation_pair)"
   ]
  },
  {
   "cell_type": "code",
   "execution_count": null,
   "metadata": {},
   "outputs": [],
   "source": [
    "if __name__ == '__main__':\n",
    "    main()"
   ]
  }
 ]
}