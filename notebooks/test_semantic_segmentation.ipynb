{
 "cells": [
  {
   "cell_type": "code",
   "execution_count": null,
   "metadata": {},
   "outputs": [],
   "source": [
    "import torch\n",
    "import torchvision\n",
    "import numpy as np\n",
    "import matplotlib.pyplot as plt \n",
    "from torchvision import datasets, transforms, models\n",
    "from helpers import iou_pytorch, display_image, get_best_device"
   ]
  },
  {
   "cell_type": "code",
   "execution_count": null,
   "metadata": {},
   "outputs": [],
   "source": [
    "# Use eval to enable prediction mode for the model\n",
    "device = get_best_device()\n",
    "model = torchvision.models.segmentation.fcn_resnet101(pretrained=True)\n",
    "model = model.to(device).eval()"
   ]
  },
  {
   "cell_type": "code",
   "execution_count": null,
   "metadata": {},
   "outputs": [],
   "source": [
    "# Resizing is necessary for a reasonable testing time\n",
    "transform_pipeline = transforms.Compose([\n",
    "    transforms.Resize(200),\n",
    "    transforms.CenterCrop((200, 200)),\n",
    "    transforms.ToTensor()\n",
    "])\n",
    "\n",
    "test = datasets.VOCSegmentation('../torch', image_set='val', download=True, \n",
    "                                transform=transform_pipeline,\n",
    "                                target_transform=transform_pipeline)\n",
    "\n",
    "test_loader = torch.utils.data.DataLoader(test, batch_size=8, num_workers=8)"
   ]
  },
  {
   "cell_type": "code",
   "execution_count": null,
   "metadata": {},
   "outputs": [],
   "source": [
    "totalIoU = 0\n",
    "count = 0\n",
    "\n",
    "for idx, (images, labels) in enumerate(test_loader):\n",
    "    print(f\"Predicting for batch: {idx}\")\n",
    "    pred = model(images.to(device))['out']\n",
    "    \n",
    "    # Get the maximum predicted class for each pixel in the image\n",
    "    pred = torch.argmax(pred, dim=1).detach().cpu()\n",
    "    pred = pred.to(torch.uint8)\n",
    "\n",
    "    # Remove the extra dimension in each image and \n",
    "    # remove segmentation borders (last line)\n",
    "    labels = labels.squeeze(dim=1)\n",
    "    labels = (labels * 255).to(torch.uint8)\n",
    "    labels[labels == 255] = 0\n",
    "\n",
    "    # Calculate the Batch Intersection over Union\n",
    "    batchIoU = iou_pytorch(pred, labels).mean().numpy()\n",
    "    totalIoU += batchIoU\n",
    "    count += 1\n",
    "\n",
    "    # print(f\"IoU for batch {idx}: {batchIoU}\")\n",
    "\n",
    "    # # Uncomment to set number of batches to run\n",
    "    # if count >= 10: \n",
    "    #     break\n",
    "\n",
    "print(\"Average IoU on dataset: \", np.round(totalIoU / count, 3))"
   ]
  }
 ],
 "metadata": {
  "file_extension": ".py",
  "kernelspec": {
   "display_name": "Python 3",
   "language": "python",
   "name": "python3"
  },
  "language_info": {
   "codemirror_mode": {
    "name": "ipython",
    "version": 3
   },
   "file_extension": ".py",
   "mimetype": "text/x-python",
   "name": "python",
   "nbconvert_exporter": "python",
   "pygments_lexer": "ipython3",
   "version": "3.7.6-final"
  },
  "mimetype": "text/x-python",
  "name": "python",
  "npconvert_exporter": "python",
  "pygments_lexer": "ipython3",
  "version": 3
 },
 "nbformat": 4,
 "nbformat_minor": 4
}