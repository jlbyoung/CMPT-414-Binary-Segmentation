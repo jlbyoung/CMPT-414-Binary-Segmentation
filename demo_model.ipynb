{
 "cells": [
  {
   "cell_type": "code",
   "execution_count": null,
   "metadata": {},
   "outputs": [],
   "source": [
    "import torch\n",
    "import torchvision\n",
    "from torchvision import transforms\n",
    "from PIL import Image\n",
    "import matplotlib.pyplot as plt\n",
    "from model.model import ENet\n",
    "\n",
    "MODEL_PATH = 'model_best.pth'\n",
    "\n",
    "def display_image(img, size=(8, 8)):\n",
    "    plt.figure(figsize=size)\n",
    "    plt.imshow(img, cmap='gray')\n",
    "    plt.xticks([])\n",
    "    plt.yticks([])\n",
    "    plt.show()"
   ]
  },
  {
   "cell_type": "code",
   "execution_count": null,
   "metadata": {},
   "outputs": [],
   "source": [
    "# Use eval to enable prediction mode for the model\n",
    "# Model can only run on Cuda\n",
    "device = torch.device('cuda') \n",
    "\n",
    "model = ENet(num_classes=1)\n",
    "state = torch.load('model_best.pth')['state_dict']\n",
    "model.load_state_dict(state)\n",
    "\n",
    "model = model.to(device).eval()"
   ]
  },
  {
   "cell_type": "code",
   "execution_count": null,
   "metadata": {},
   "outputs": [],
   "source": [
    "original_filename = 'demo.jpeg'\n",
    "image = Image.open(original_filename)\n",
    "\n",
    "print(\"Image shape:\", image.size)\n",
    "\n",
    "display_image(image)"
   ]
  },
  {
   "cell_type": "code",
   "execution_count": null,
   "metadata": {},
   "outputs": [],
   "source": [
    "transform_pipeline = transforms.Compose([      \n",
    "    transforms.ToTensor()\n",
    "])\n",
    "\n",
    "transformed_image = transform_pipeline(image)\n",
    "transformed_image = torch.unsqueeze(transformed_image, dim=0)\n",
    "transformed_image = transformed_image.to(device)\n",
    "\n",
    "print(\"Transformed image shape:\", transformed_image.shape)\n",
    "out = model(transformed_image)"
   ]
  },
  {
   "cell_type": "code",
   "execution_count": null,
   "metadata": {},
   "outputs": [],
   "source": [
    "# Extract masks\n",
    "\n",
    "# Check which pixels have probability > 0.5\n",
    "mask = torch.sigmoid(out.squeeze()) > 0.5\n",
    "\n",
    "# Convert to numpy\n",
    "mask = mask.to(torch.uint8).cpu().numpy() * 255\n",
    "\n",
    "display_image(mask)"
   ]
  },
  {
   "cell_type": "code",
   "execution_count": null,
   "metadata": {},
   "outputs": [],
   "source": []
  }
 ],
 "metadata": {
  "file_extension": ".py",
  "kernelspec": {
   "display_name": "Python 3",
   "language": "python",
   "name": "python3"
  },
  "language_info": {
   "codemirror_mode": {
    "name": "ipython",
    "version": 3
   },
   "file_extension": ".py",
   "mimetype": "text/x-python",
   "name": "python",
   "nbconvert_exporter": "python",
   "pygments_lexer": "ipython3",
   "version": "3.7.6"
  },
  "mimetype": "text/x-python",
  "name": "python",
  "npconvert_exporter": "python",
  "pygments_lexer": "ipython3",
  "version": 3
 },
 "nbformat": 4,
 "nbformat_minor": 4
}
